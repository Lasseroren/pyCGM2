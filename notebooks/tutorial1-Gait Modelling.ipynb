{
 "cells": [
  {
   "cell_type": "markdown",
   "id": "e154fee7-98cd-4d57-a09b-038f86aed28e",
   "metadata": {},
   "source": [
    "# TUTORIAL 1 : GAIT MODELLING - Application of a CGM on your gait dataset"
   ]
  },
  {
   "cell_type": "markdown",
   "id": "d4aefb1e-2d65-4a7e-8d50-b2722a01e505",
   "metadata": {},
   "source": [
    "**Import modules**"
   ]
  },
  {
   "cell_type": "code",
   "execution_count": 1,
   "id": "e328a550-e210-43ee-98ca-8dc6660528c8",
   "metadata": {},
   "outputs": [
    {
     "name": "stderr",
     "output_type": "stream",
     "text": [
      "2023-03-07 11:58:35,490 - [INFO] - pyCGM2 - (btkTools.py).<module>(18) - [pyCGM2] pyCGM2-embedded btk not imported\n",
      "2023-03-07 11:58:37,635 - [INFO] - pyCGM2 - (forceplates.py).<module>(26) - [pyCGM2] pyCGM2-embedded btk not imported\n",
      "2023-03-07 11:58:37,672 - [INFO] - pyCGM2 - (modelFilters.py).<module>(19) - [pyCGM2] pyCGM2-embedded btk not imported\n",
      "2023-03-07 11:58:37,709 - [INFO] - pyCGM2 - (cgm.py).<module>(12) - [pyCGM2] pyCGM2-embedded btk not imported\n",
      "2023-03-07 11:58:37,722 - [INFO] - pyCGM2 - (model.py).<module>(12) - [pyCGM2] pyCGM2-embedded btk not imported\n",
      "2023-03-07 11:58:38,868 - [INFO] - pyCGM2 - (signal_processing.py).<module>(17) - [pyCGM2] pyCGM2-embedded btk not imported\n",
      "2023-03-07 11:58:38,893 - [INFO] - pyCGM2 - (nexusTools.py).<module>(16) - [pyCGM2] pyCGM2-embedded btk not imported\n",
      "2023-03-07 11:58:38,910 - [INFO] - pyCGM2 - (cgm2.py).<module>(13) - [pyCGM2] pyCGM2-embedded btk not imported\n",
      "2023-03-07 11:58:38,953 - [INFO] - pyCGM2 - (anomalyDetectionProcedures.py).<module>(24) - [pyCGM2] pyCGM2-embedded btk not imported\n",
      "2023-03-07 11:58:38,968 - [INFO] - pyCGM2 - (inspectorProcedures.py).<module>(25) - [pyCGM2] pyCGM2-embedded btk not imported\n",
      "2023-03-07 11:58:38,985 - [INFO] - pyCGM2 - (modelQuality.py).<module>(17) - [pyCGM2] pyCGM2-embedded btk not imported\n"
     ]
    }
   ],
   "source": [
    "# -*- coding: utf-8 -*-\n",
    "import pyCGM2; LOGGER = pyCGM2.LOGGER\n",
    "import os\n",
    "\n",
    "import pyCGM2\n",
    "from pyCGM2.Utils import files\n",
    "from pyCGM2.Tools import btkTools\n",
    "from pyCGM2.ForcePlates import forceplates\n",
    "from pyCGM2 import enums\n",
    "\n",
    "from pyCGM2.Lib.CGM import cgm2_1\n"
   ]
  },
  {
   "cell_type": "code",
   "execution_count": null,
   "id": "101d4974-9764-4a43-a583-9dfacd98c1a1",
   "metadata": {},
   "outputs": [],
   "source": [
    "**define path to your data**"
   ]
  },
  {
   "cell_type": "code",
   "execution_count": 2,
   "id": "5555793f-9b26-4a14-9ab6-9d0131df3265",
   "metadata": {},
   "outputs": [],
   "source": [
    "DATA_PATH =  os.getcwd()+\"\\\\\"+\"Data\\\\\""
   ]
  },
  {
   "cell_type": "markdown",
   "id": "4f60e93e-04cf-4da6-9971-d60978db672f",
   "metadata": {},
   "source": [
    "**load settings**\n",
    "\n",
    "The setting file \n",
    "In this example, we call settings of the **CGM2.1** \n",
    "\n"
   ]
  },
  {
   "cell_type": "code",
   "execution_count": 3,
   "id": "4ce49a0e-4a06-4bb5-84a7-d2edf7792885",
   "metadata": {},
   "outputs": [
    {
     "name": "stderr",
     "output_type": "stream",
     "text": [
      "2023-03-07 11:59:08,394 - [INFO] - pyCGM2 - (cgm.py).configure(251) - BodyPart found : FullBody\n",
      "2023-03-07 11:59:08,799 - [INFO] - pyCGM2 - (decorators.py).applyKJC_AJCDecorators(133) - [pyCGM2] scenario Left : lateral thigh marker - Medial ankle\n",
      "2023-03-07 11:59:08,854 - [INFO] - pyCGM2 - (decorators.py).applyKJC_AJCDecorators(160) - [pyCGM2] scenario right : lateral thigh marker - Medial ankle\n",
      "2023-03-07 11:59:08,912 - [INFO] - pyCGM2 - (decorators.py).applyHJCDecorators(186) - [pyCGM2] Left HJC : Hara\n",
      "2023-03-07 11:59:08,913 - [INFO] - pyCGM2 - (decorators.py).applyHJCDecorators(194) - [pyCGM2] Right HJC : Hara\n",
      "2023-03-07 11:59:20,584 - [INFO] - pyCGM2 - (cgm2_1.py).calibrate(181) - [pyCGM2] - progression axis detected from Pelvic markers \n",
      "2023-03-07 11:59:20,594 - [INFO] - pyCGM2 - (progressionFrameProcedures.py).compute(185) - Progression axis : X\n",
      "2023-03-07 11:59:20,595 - [INFO] - pyCGM2 - (progressionFrameProcedures.py).compute(186) - forwardProgression : True\n",
      "2023-03-07 11:59:20,597 - [INFO] - pyCGM2 - (progressionFrameProcedures.py).compute(187) - globalFrame : XYZ\n",
      "2023-03-07 11:59:22,510 - [INFO] - pyCGM2 - (cgm2_1.py).fitting(326) - [pyCGM2]  Computation from frame [253] to frame [514]\n",
      "2023-03-07 11:59:26,397 - [INFO] - pyCGM2 - (forceplates.py).matchingFootSideOnForceplate(174) - [pyCGM2]: Id of Force plate not detected\n",
      "2023-03-07 11:59:26,402 - [INFO] - pyCGM2 - (forceplates.py).matchingFootSideOnForceplate(300) - [pyCGM2] : automatic force plate assigment corrected  \n",
      "2023-03-07 11:59:26,403 - [INFO] - pyCGM2 - (cgm2_1.py).fitting(458) - Manual Force plate assignment : XX\n"
     ]
    },
    {
     "data": {
      "text/plain": [
       "'c:\\\\Users\\\\fleboeuf\\\\Documents\\\\Programmation\\\\pyCGM2\\\\pyCGM2\\\\notebooks\\\\Data\\\\03367_05136_20200604-GBNNN-VDEF-01-modelled.c3d'"
      ]
     },
     "execution_count": 3,
     "metadata": {},
     "output_type": "execute_result"
    }
   ],
   "source": [
    "# chargement du fichier settings. Par defaut, il va chercher dans pyCGM2/Settings\n",
    "# tu peux faire un copier coller de ce settings et le mettre dans ton repertoire)\n",
    "settings = files.loadModelSettings(DATA_PATH,\"CGM2_1-pyCGM2.settings\")\n",
    "\n",
    "# CALIBRATION--------------------------------\n",
    "staticFile =\"03367_05136_20200604-SBNNN-VDEF-02.c3d\"\n",
    "acqStatic = btkTools.smartReader(DATA_PATH+staticFile)\n",
    "\n",
    "# choix des options\n",
    "leftFlatFoot = settings[\"Calibration\"][\"Left flat foot\"]\n",
    "rightFlatFoot= settings[\"Calibration\"][\"Right flat foot\"]\n",
    "headFlat= settings[\"Calibration\"][\"Head flat\"]\n",
    "translators = settings[\"Translators\"]\n",
    "markerDiameter = settings[\"Global\"][\"Marker diameter\"]\n",
    "HJC = settings[\"Calibration\"][\"HJC\"]\n",
    "pointSuffix = settings[\"Global\"][\"Point suffix\"]\n",
    "\n",
    "# definitions des mp a partir des metadata\n",
    "required_mp = dict()\n",
    "required_mp[\"Bodymass\"] = 75.0\n",
    "required_mp[\"Height\"]= 1750\n",
    "required_mp[\"LeftLegLength\"] = 800\n",
    "required_mp[\"LeftKneeWidth\"] = 90\n",
    "required_mp[\"RightLegLength\"] = 800\n",
    "required_mp[\"RightKneeWidth\"] = 90\n",
    "required_mp[\"LeftAnkleWidth\"] = 60\n",
    "required_mp[\"RightAnkleWidth\"] = 60\n",
    "required_mp[\"LeftSoleDelta\"] = 0\n",
    "required_mp[\"RightSoleDelta\"] = 0\n",
    "required_mp[\"LeftShoulderOffset\"] = 0\n",
    "required_mp[\"LeftElbowWidth\"] = 0\n",
    "required_mp[\"LeftWristWidth\"] = 0\n",
    "required_mp[\"LeftHandThickness\"] = 0\n",
    "required_mp[\"RightShoulderOffset\"] = 0\n",
    "required_mp[\"RightElbowWidth\"] = 0\n",
    "required_mp[\"RightWristWidth\"] = 0\n",
    "required_mp[\"RightHandThickness\"]= 0\n",
    "\n",
    "optional_mp = dict()\n",
    "optional_mp[\"InterAsisDistance\"]= 0\n",
    "optional_mp[\"LeftAsisTrocanterDistance\"]= 0\n",
    "optional_mp[\"LeftTibialTorsion\"]= 0\n",
    "optional_mp[\"LeftThighRotation\"]= 0\n",
    "optional_mp[\"LeftShankRotation\"]= 0\n",
    "optional_mp[\"RightAsisTrocanterDistance\"]= 0\n",
    "optional_mp[\"RightTibialTorsion\"]= 0\n",
    "optional_mp[\"RightThighRotation\"]= 0\n",
    "optional_mp[\"RightShankRotation\"]= 0\n",
    "\n",
    "\n",
    "model,finalAcqStatic,error = cgm2_1.calibrate(DATA_PATH,\n",
    "    staticFile,\n",
    "    translators,\n",
    "    required_mp,\n",
    "    optional_mp,\n",
    "    leftFlatFoot,\n",
    "    rightFlatFoot,\n",
    "    headFlat,\n",
    "    markerDiameter,\n",
    "    HJC,\n",
    "    pointSuffix)\n",
    "\n",
    "# FITTING ----------------------------------------------------------\n",
    "trialName = \"03367_05136_20200604-GBNNN-VDEF-01.c3d\"\n",
    "\n",
    "momentProjection = enums.enumFromtext(settings[\"Fitting\"][\"Moment Projection\"],enums.MomentProjection) \n",
    "pointSuffix = settings[\"Global\"][\"Point suffix\"]\n",
    "\n",
    "\n",
    "# force plate assignement a parir du c3d\n",
    "acq = btkTools.smartReader(DATA_PATH+trialName)\n",
    "mfpa = forceplates.matchingFootSideOnForceplate(acq)\n",
    "\n",
    "acqGait,detectAnomaly = cgm2_1.fitting(model,DATA_PATH, trialName,\n",
    "    translators,\n",
    "    markerDiameter,\n",
    "    pointSuffix,\n",
    "    mfpa,\n",
    "    momentProjection,\n",
    "    frameInit= None, frameEnd= None )\n",
    "\n",
    "btkTools.smartWriter(acqGait, DATA_PATH+trialName[:-4]+\"-modelled.c3d\")\n"
   ]
  }
 ],
 "metadata": {
  "kernelspec": {
   "display_name": "Python 3 (ipykernel)",
   "language": "python",
   "name": "python3"
  },
  "language_info": {
   "codemirror_mode": {
    "name": "ipython",
    "version": 3
   },
   "file_extension": ".py",
   "mimetype": "text/x-python",
   "name": "python",
   "nbconvert_exporter": "python",
   "pygments_lexer": "ipython3",
   "version": "3.9.0"
  }
 },
 "nbformat": 4,
 "nbformat_minor": 5
}
